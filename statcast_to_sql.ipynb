{
 "cells": [
  {
   "cell_type": "code",
   "execution_count": 1,
   "id": "840b5aa0",
   "metadata": {},
   "outputs": [],
   "source": [
    "import pandas as pd \n",
    "import numpy as np \n",
    "import datetime\n",
    "import sqlite3 \n",
    "import pybaseball as pyb #Pybaseball is where we will be pulling data from"
   ]
  },
  {
   "cell_type": "code",
   "execution_count": 3,
   "id": "6db3f576",
   "metadata": {},
   "outputs": [],
   "source": [
    "# Calculate yesterday's date\n",
    "today = datetime.date.today()\n",
    "yesterday = today - datetime.timedelta(days=1)"
   ]
  },
  {
   "cell_type": "code",
   "execution_count": null,
   "id": "2d28d12c",
   "metadata": {},
   "outputs": [],
   "source": [
    "#turn the output of the date to a string to be able to pass through the statcast function\n",
    "yesterday_str = yesterday.strftime('%Y-%m-%d')\n",
    "#Get yesterdays data from pybaseball's statcast function \n",
    "data = pyb.statcast(start_dt=yesterday_str, end_dt=None, team=None, verbose=True, parallel=True)"
   ]
  },
  {
   "cell_type": "code",
   "execution_count": 73,
   "id": "6791974e",
   "metadata": {},
   "outputs": [],
   "source": [
    "def add_to_savant(df):\n",
    "    # Modify 'pfx_x' and 'pfx_z' columns to get them in inches \n",
    "    df['pfx_x'] = df['pfx_x'].apply(lambda x: x * -12)\n",
    "    df['pfx_z'] = df['pfx_z'].apply(lambda x: x * 12)\n",
    "    \n",
    "    # Create 'hard_hit' column\n",
    "    df['launch_speed'] = df['launch_speed'].fillna(False)\n",
    "    df['hard_hit'] = df['launch_speed'].apply(lambda x: 1 if x > 95 else 0)\n",
    "\n",
    "    # Create 'sweet_spot' column\n",
    "    df['launch_angle'] = df['launch_angle'].fillna(False)\n",
    "    df['sweet_spot'] = df['launch_angle'].apply(lambda x: 1 if (x >= 8) and (x <= 32) else 0)\n",
    "\n",
    "    # Add 'VAA' column\n",
    "    vy_f = -1 * np.sqrt(df['vx0']**2 + df['vy0']**2) \n",
    "    t = (vy_f - df['vy0']) / df['ay']\n",
    "    vz_f = df['vz0'] + df['az'] * t\n",
    "    df['VAA'] = np.round(-1 * np.arctan(vz_f / vy_f) * (180 / np.pi), 2)\n",
    "    \n",
    "    return df"
   ]
  },
  {
   "cell_type": "code",
   "execution_count": 40,
   "id": "5393b213",
   "metadata": {},
   "outputs": [],
   "source": [
    "# Define a dictionary with the column name changes\n",
    "column_names_dict = {\n",
    "    'release_speed': 'velo',\n",
    "    'release_pos_x': 'release_side',\n",
    "    'release_pos_z': 'release_height',\n",
    "    'game_date': 'date',\n",
    "    'pf_x_z': 'ind_vert_break',\n",
    "    'pf_x_x': 'horizontal_break',\n",
    "    'launch_speed': 'exit_velo',\n",
    "    \n",
    "    # Add more column names as needed\n",
    "}"
   ]
  },
  {
   "cell_type": "code",
   "execution_count": 46,
   "id": "414198e5",
   "metadata": {},
   "outputs": [],
   "source": [
    "def rename_statcast_columns(data, column_names_dict):\n",
    "    \"\"\"\n",
    "    Rename columns from the Statcast data that was pulled from Savant\n",
    "\n",
    "    Parameters:\n",
    "        data (pd.DataFrame): Statcast data from Savant\n",
    "        column_names_dict (dict): a dictionary containing the current column names as keys\n",
    "                                  and the new column names as values\n",
    "\n",
    "    Returns:\n",
    "        pd.DataFrame: the modified DataFrame with the renamed columns\n",
    "    \"\"\"\n",
    "    data = data.rename(columns=column_names_dict)\n",
    "    return data"
   ]
  },
  {
   "cell_type": "code",
   "execution_count": null,
   "id": "c2b66849",
   "metadata": {},
   "outputs": [],
   "source": [
    "# Run the downloaded data from pybaseball for the day through the 'add_to_savant' function\n",
    "modified_data = add_to_savant(data)"
   ]
  },
  {
   "cell_type": "code",
   "execution_count": null,
   "id": "418eccff",
   "metadata": {},
   "outputs": [],
   "source": [
    "# Run the new dataframe (modified_data) that contains the new columns from the 'add_to_savant' function through \n",
    "# the function that renames the columns\n",
    "data_cleaned = rename_statcast_columns(modified_data, column_names_dict)"
   ]
  },
  {
   "cell_type": "code",
   "execution_count": null,
   "id": "20f2609b",
   "metadata": {},
   "outputs": [],
   "source": [
    "#Connect to the SQLLite database 2023Statcast\n",
    "conn = sqlite3.connect('2023Statcast.db')\n",
    "\n",
    "#define the table name\n",
    "table_name = 'statcast_data_2023'\n",
    "#if the table name exists then append the data on it\n",
    "data_cleaned.to_sql(table_name, conn, if_exists='append', index=False)\n",
    "\n",
    "# Close the connection\n",
    "conn.close()\n"
   ]
  }
 ],
 "metadata": {
  "kernelspec": {
   "display_name": "Python 3",
   "language": "python",
   "name": "python3"
  },
  "language_info": {
   "codemirror_mode": {
    "name": "ipython",
    "version": 3
   },
   "file_extension": ".py",
   "mimetype": "text/x-python",
   "name": "python",
   "nbconvert_exporter": "python",
   "pygments_lexer": "ipython3",
   "version": "3.10.4"
  },
  "vscode": {
   "interpreter": {
    "hash": "aee8b7b246df8f9039afb4144a1f6fd8d2ca17a180786b69acc140d282b71a49"
   }
  }
 },
 "nbformat": 4,
 "nbformat_minor": 5
}
