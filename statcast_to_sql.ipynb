{
 "cells": [
  {
   "cell_type": "code",
   "execution_count": 2,
   "id": "840b5aa0",
   "metadata": {},
   "outputs": [],
   "source": [
    "import pandas as pd \n",
    "import numpy as np \n",
    "import datetime\n",
    "import sqlite3 \n",
    "import pybaseball as pyb #Pybaseball is where we will be pulling data from"
   ]
  },
  {
   "cell_type": "code",
   "execution_count": 7,
   "id": "79f5b478",
   "metadata": {},
   "outputs": [],
   "source": [
    "# Get today's date \n",
    "today = datetime.date.today()\n",
    "#turn the output of the date to a string to be able to pass through the statcast function\n",
    "today_str = today.strftime('%Y-%m-%d')  \n",
    "#This start_dt will be the starting date of spring training for the 2023 season \n",
    "start_dt_od = '2023-03-30'\n"
   ]
  },
  {
   "cell_type": "code",
   "execution_count": null,
   "id": "3f4a2957",
   "metadata": {},
   "outputs": [],
   "source": [
    "#Get all data leading from Opening Day to the current date from pybaseball's statcast function \n",
    "data = pyb.statcast(start_dt=start_dt_od, end_dt=today_str, team=None, verbose=True, parallel=True)"
   ]
  },
  {
   "attachments": {},
   "cell_type": "markdown",
   "id": "98c24e15",
   "metadata": {},
   "source": [
    "#Using an arbitray set of dates to test to make sure the functions work and data can be written to the databse - this line is only included to test the code out"
   ]
  },
  {
   "cell_type": "code",
   "execution_count": null,
   "id": "f8a0d407",
   "metadata": {},
   "outputs": [],
   "source": [
    "#data = pyb.statcast(start_dt = '2022-05-17', end_dt = '2022-05-18', team = None, verbose = True, parallel = True) "
   ]
  },
  {
   "attachments": {},
   "cell_type": "markdown",
   "id": "b9b65c43",
   "metadata": {},
   "source": [
    "#This is a function to add some aditional things I want in the pitch by pich data"
   ]
  },
  {
   "cell_type": "code",
   "execution_count": 19,
   "id": "6791974e",
   "metadata": {},
   "outputs": [],
   "source": [
    "def add_to_savant(df):\n",
    "    # Modify 'pfx_x' and 'pfx_z' columns to get them in inches \n",
    "    df['pfx_x'] = df['pfx_x'].apply(lambda x: x * -12)\n",
    "    df['pfx_z'] = df['pfx_z'].apply(lambda x: x * 12)\n",
    "    \n",
    "    # Create 'hard_hit' column\n",
    "    df['launch_speed'] = df['launch_speed'].fillna(False)\n",
    "    df['hard_hit'] = df['launch_speed'].apply(lambda x: 1 if x > 95 else 0)\n",
    "\n",
    "    # Create 'sweet_spot' column\n",
    "    df['launch_angle'] = df['launch_angle'].fillna(False)\n",
    "    df['sweet_spot'] = df['launch_angle'].apply(lambda x: 1 if (x >= 8) and (x <= 32) else 0)\n",
    "\n",
    "    # Add 'VAA' column\n",
    "    vy_f = -1 * np.sqrt(df['vx0']**2 + df['vy0']**2) \n",
    "    t = (vy_f - df['vy0']) / df['ay']\n",
    "    vz_f = df['vz0'] + df['az'] * t\n",
    "    df['VAA'] = np.round(-1 * np.arctan(vz_f / vy_f) * (180 / np.pi), 2)\n",
    "    \n",
    "    # Add 'count' column\n",
    "    df['count'] = df['balls'].astype(str) + '-' + df['strikes'].astype(str)\n",
    "\n",
    "    # Add 'count_type' column  \n",
    "    df['count_type'] = ''\n",
    "    df.loc[df['count'] == '1-0', '2-0','3-0','2-1','3-1','3-2'] = 'hitter'\n",
    "    df.loc[df['count'] == '0-1', '0-2','1-2'] = 'pitcher'\n",
    "    df.loc[df['count'] == '0-0', '1-1','2-2'] = 'even'\n",
    "\n",
    "    return df"
   ]
  },
  {
   "attachments": {},
   "cell_type": "markdown",
   "id": "4177e1b3",
   "metadata": {},
   "source": [
    "#These are the column names I will be changing to make querying quicker for me"
   ]
  },
  {
   "cell_type": "code",
   "execution_count": 20,
   "id": "5393b213",
   "metadata": {},
   "outputs": [],
   "source": [
    "# Define a dictionary with the column name changes\n",
    "column_names_dict = {\n",
    "    'release_speed': 'velo',\n",
    "    'release_pos_x': 'release_side',\n",
    "    'release_pos_z': 'release_height',\n",
    "    'game_date': 'date',\n",
    "    'pf_x_z': 'ind_vert_break',\n",
    "    'pf_x_x': 'horizontal_break',\n",
    "    'launch_speed': 'exit_velo',\n",
    "    \n",
    "    # Add more column names as needed\n",
    "}"
   ]
  },
  {
   "attachments": {},
   "cell_type": "markdown",
   "id": "10923647",
   "metadata": {},
   "source": [
    "#Function to apply column name changes to the data"
   ]
  },
  {
   "cell_type": "code",
   "execution_count": 21,
   "id": "414198e5",
   "metadata": {},
   "outputs": [],
   "source": [
    "def rename_statcast_columns(data, column_names_dict):\n",
    "    \"\"\"\n",
    "    Rename columns from the Statcast data that was pulled from Savant\n",
    "\n",
    "    Parameters:\n",
    "        data (pd.DataFrame): Statcast data from Savant\n",
    "        column_names_dict (dict): a dictionary containing the current column names as keys\n",
    "                                  and the new column names as values\n",
    "\n",
    "    Returns:\n",
    "        pd.DataFrame: the modified DataFrame with the renamed columns\n",
    "    \"\"\"\n",
    "    data = data.rename(columns=column_names_dict)\n",
    "    return data"
   ]
  },
  {
   "cell_type": "code",
   "execution_count": 22,
   "id": "c2b66849",
   "metadata": {},
   "outputs": [],
   "source": [
    "# Run the downloaded data from pybaseball for the day through the 'add_to_savant' function\n",
    "modified_data = add_to_savant(data)"
   ]
  },
  {
   "cell_type": "code",
   "execution_count": null,
   "id": "418eccff",
   "metadata": {},
   "outputs": [],
   "source": [
    "# Run the new dataframe (modified_data) that contains the new columns from the 'add_to_savant' function through \n",
    "# the function that renames the columns\n",
    "data_cleaned = rename_statcast_columns(modified_data, column_names_dict) \n",
    "print(data_cleaned.head())"
   ]
  },
  {
   "attachments": {},
   "cell_type": "markdown",
   "id": "ff05e9d7",
   "metadata": {},
   "source": [
    "#We want to clear out any data in the database table before we load anything new. This is to ensure that if Statcast makes any changes we will always have the most up to date information - thanks to Jeremy Maschino for this suggestion"
   ]
  },
  {
   "cell_type": "code",
   "execution_count": 24,
   "id": "127cc8dd",
   "metadata": {},
   "outputs": [],
   "source": [
    "# Connect to the database\n",
    "conn = sqlite3.connect('2023Statcast.db')\n",
    "\n",
    "# Create a cursor object to execute SQL statements\n",
    "cur = conn.cursor()\n",
    "\n",
    "# Execute the DELETE statement to remove all data from the table\n",
    "cur.execute('DELETE FROM statcast_data_2023')\n",
    "\n",
    "# Commit the changes to the database\n",
    "conn.commit()\n",
    "\n",
    "# Close the cursor and database connections\n",
    "cur.close()\n",
    "conn.close()"
   ]
  },
  {
   "attachments": {},
   "cell_type": "markdown",
   "id": "bd2c1f32",
   "metadata": {},
   "source": [
    "#We will now put all of our updated data into the table 'statcast_data_2023' into the '2023Statcast' database"
   ]
  },
  {
   "cell_type": "code",
   "execution_count": 25,
   "id": "20f2609b",
   "metadata": {},
   "outputs": [],
   "source": [
    "#Connect to the SQLLite database 2023Statcast\n",
    "conn = sqlite3.connect('2023Statcast.db')\n",
    "\n",
    "#define the table name\n",
    "table_name = 'statcast_data_2023'\n",
    "#if the table name exists then append the data on it\n",
    "data_cleaned.to_sql(table_name, conn, if_exists='append', index=False)\n",
    "\n",
    "# Close the connection\n",
    "conn.close()\n"
   ]
  }
 ],
 "metadata": {
  "kernelspec": {
   "display_name": "Python 3",
   "language": "python",
   "name": "python3"
  },
  "language_info": {
   "codemirror_mode": {
    "name": "ipython",
    "version": 3
   },
   "file_extension": ".py",
   "mimetype": "text/x-python",
   "name": "python",
   "nbconvert_exporter": "python",
   "pygments_lexer": "ipython3",
   "version": "3.10.4"
  },
  "vscode": {
   "interpreter": {
    "hash": "aee8b7b246df8f9039afb4144a1f6fd8d2ca17a180786b69acc140d282b71a49"
   }
  }
 },
 "nbformat": 4,
 "nbformat_minor": 5
}
