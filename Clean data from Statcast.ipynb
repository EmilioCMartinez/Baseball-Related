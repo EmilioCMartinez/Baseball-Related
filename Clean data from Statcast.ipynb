{
 "cells": [
  {
   "cell_type": "code",
   "execution_count": 1,
   "id": "840b5aa0",
   "metadata": {},
   "outputs": [],
   "source": [
    "import pandas as pd \n",
    "import numpy as np \n",
    "import datetime\n",
    "import sqlite3 \n",
    "import pybaseball as pyb #Pybaseball is where we will be pulling data from"
   ]
  },
  {
   "cell_type": "code",
   "execution_count": 3,
   "id": "6db3f576",
   "metadata": {},
   "outputs": [],
   "source": [
    "# Calculate yesterday's date\n",
    "today = datetime.date.today()\n",
    "yesterday = today - datetime.timedelta(days=1)"
   ]
  },
  {
   "cell_type": "code",
   "execution_count": 4,
   "id": "2d28d12c",
   "metadata": {},
   "outputs": [
    {
     "name": "stdout",
     "output_type": "stream",
     "text": [
      "This is a large query, it may take a moment to complete\n",
      "Skipping offseason dates\n"
     ]
    },
    {
     "name": "stderr",
     "output_type": "stream",
     "text": [
      "0it [00:00, ?it/s]\n"
     ]
    }
   ],
   "source": [
    "#turn the output of the date to a string to be able to pass through the statcast function\n",
    "yesterday_str = yesterday.strftime('%Y-%m-%d')\n",
    "#Get yesterdays data from pybaseball's statcast function \n",
    "data = pyb.statcast(start_dt=yesterday_str, end_dt=None, team=None, verbose=True, parallel=True)"
   ]
  },
  {
   "cell_type": "code",
   "execution_count": 73,
   "id": "6791974e",
   "metadata": {},
   "outputs": [],
   "source": [
    "def add_to_savant(df):\n",
    "    # Modify 'pfx_x' and 'pfx_z' columns to get them in inches \n",
    "    df['pfx_x'] = df['pfx_x'].apply(lambda x: x * -12)\n",
    "    df['pfx_z'] = df['pfx_z'].apply(lambda x: x * 12)\n",
    "    \n",
    "    # Create 'hard_hit' column\n",
    "    df['launch_speed'] = df['launch_speed'].fillna(False)\n",
    "    df['hard_hit'] = df['launch_speed'].apply(lambda x: 1 if x > 95 else 0)\n",
    "\n",
    "    # Create 'sweet_spot' column\n",
    "    df['launch_angle'] = df['launch_angle'].fillna(False)\n",
    "    df['sweet_spot'] = df['launch_angle'].apply(lambda x: 1 if (x >= 8) and (x <= 32) else 0)\n",
    "\n",
    "    # Add 'VAA' column\n",
    "    vy_f = -1 * np.sqrt(df['vx0']**2 + df['vy0']**2) \n",
    "    t = (vy_f - df['vy0']) / df['ay']\n",
    "    vz_f = df['vz0'] + df['az'] * t\n",
    "    df['VAA'] = np.round(-1 * np.arctan(vz_f / vy_f) * (180 / np.pi), 2)\n",
    "    \n",
    "    return df"
   ]
  },
  {
   "cell_type": "code",
   "execution_count": 40,
   "id": "5393b213",
   "metadata": {},
   "outputs": [],
   "source": [
    "# Define a dictionary with the column name changes\n",
    "column_names_dict = {\n",
    "    'release_speed': 'velo',\n",
    "    'release_pos_x': 'release_side',\n",
    "    'release_pos_z': 'release_height',\n",
    "    'game_date': 'date',\n",
    "    'pf_x_z': 'ind_vert_break',\n",
    "    'pf_x_x': 'horizontal_break',\n",
    "    'launch_speed': 'exit_velo',\n",
    "    \n",
    "    # Add more column names as needed\n",
    "}"
   ]
  },
  {
   "cell_type": "code",
   "execution_count": 46,
   "id": "414198e5",
   "metadata": {},
   "outputs": [],
   "source": [
    "def rename_statcast_columns(data, column_names_dict):\n",
    "    \"\"\"\n",
    "    Rename columns from the Statcast data that was pulled from Savant\n",
    "\n",
    "    Parameters:\n",
    "        data (pd.DataFrame): Statcast data from Savant\n",
    "        column_names_dict (dict): a dictionary containing the current column names as keys\n",
    "                                  and the new column names as values\n",
    "\n",
    "    Returns:\n",
    "        pd.DataFrame: the modified DataFrame with the renamed columns\n",
    "    \"\"\"\n",
    "    data = data.rename(columns=column_names_dict)\n",
    "    return data"
   ]
  },
  {
   "cell_type": "code",
   "execution_count": null,
   "id": "c2b66849",
   "metadata": {},
   "outputs": [],
   "source": [
    "# Run the downloaded data from pybaseball for the day through the 'add_to_savant' function\n",
    "modified_data = add_to_savant(data)"
   ]
  },
  {
   "cell_type": "code",
   "execution_count": null,
   "id": "418eccff",
   "metadata": {},
   "outputs": [],
   "source": [
    "# Run the new dataframe (modified_data) that contains the new columns from the 'add_to_savant' function through \n",
    "# the function that renames the columns\n",
    "data_cleaned = rename_columns(modified_data, column_names_dict)"
   ]
  },
  {
   "cell_type": "code",
   "execution_count": null,
   "id": "20f2609b",
   "metadata": {},
   "outputs": [],
   "source": [
    "#Connect to the SQLLite database 2023Statcast\n",
    "conn = sqlite3.connect('2023Statcast.db')\n",
    "\n",
    "#define the table name\n",
    "table_name = 'statcast_data_2023'\n",
    "#if the table name exists then append the data on it\n",
    "data_cleaned.to_sql(table_name, conn, if_exists='append', index=False)\n",
    "\n",
    "# Close the connection\n",
    "conn.close()\n"
   ]
  },
  {
   "cell_type": "markdown",
   "id": "1cb2ad9d",
   "metadata": {},
   "source": [
    "TESTING THE CODE"
   ]
  },
  {
   "cell_type": "code",
   "execution_count": 25,
   "id": "4981e06a",
   "metadata": {},
   "outputs": [],
   "source": [
    "x = pd.read_csv('/Users/emiliomartinez/Desktop/code/Data/Savant/2022savant.csv').head(10)\n"
   ]
  },
  {
   "cell_type": "code",
   "execution_count": 42,
   "id": "8aeff318",
   "metadata": {},
   "outputs": [],
   "source": [
    "z = add_to_savant(x)"
   ]
  },
  {
   "cell_type": "code",
   "execution_count": 47,
   "id": "4b32c4f0",
   "metadata": {},
   "outputs": [],
   "source": [
    "q= rename_statcast_columns(z,column_names_dict)"
   ]
  },
  {
   "cell_type": "code",
   "execution_count": 81,
   "id": "3f98be22",
   "metadata": {},
   "outputs": [],
   "source": [
    "#Connect to the SQLLite database 2023Statcast\n",
    "conn = sqlite3.connect('2023Statcast.db')\n",
    "\n",
    "#define the table name\n",
    "table_name = 'statcast_data_2023'\n",
    "#if the table name exists then append the data on it\n",
    "q.to_sql(table_name, conn, if_exists='append', index=False)\n",
    "\n",
    "# Close the connection\n",
    "conn.close()\n"
   ]
  },
  {
   "cell_type": "code",
   "execution_count": 78,
   "id": "d064975e",
   "metadata": {
    "collapsed": true
   },
   "outputs": [
    {
     "ename": "OperationalError",
     "evalue": "no such table: statcast_data_2023",
     "output_type": "error",
     "traceback": [
      "\u001b[0;31m---------------------------------------------------------------------------\u001b[0m",
      "\u001b[0;31mOperationalError\u001b[0m                          Traceback (most recent call last)",
      "\u001b[0;32m/var/folders/r5/ppm6zm3j5f1f4km8p75549y80000gn/T/ipykernel_48825/2466344830.py\u001b[0m in \u001b[0;36m<module>\u001b[0;34m\u001b[0m\n\u001b[1;32m      2\u001b[0m \u001b[0mcursor\u001b[0m \u001b[0;34m=\u001b[0m \u001b[0mconn\u001b[0m\u001b[0;34m.\u001b[0m\u001b[0mcursor\u001b[0m\u001b[0;34m(\u001b[0m\u001b[0;34m)\u001b[0m\u001b[0;34m\u001b[0m\u001b[0;34m\u001b[0m\u001b[0m\n\u001b[1;32m      3\u001b[0m \u001b[0;34m\u001b[0m\u001b[0m\n\u001b[0;32m----> 4\u001b[0;31m \u001b[0mcursor\u001b[0m\u001b[0;34m.\u001b[0m\u001b[0mexecute\u001b[0m\u001b[0;34m(\u001b[0m\u001b[0;34m\"SELECT * FROM statcast_data_2023;\"\u001b[0m\u001b[0;34m)\u001b[0m\u001b[0;34m\u001b[0m\u001b[0;34m\u001b[0m\u001b[0m\n\u001b[0m\u001b[1;32m      5\u001b[0m \u001b[0mrows\u001b[0m \u001b[0;34m=\u001b[0m \u001b[0mcursor\u001b[0m\u001b[0;34m.\u001b[0m\u001b[0mfetchall\u001b[0m\u001b[0;34m(\u001b[0m\u001b[0;34m)\u001b[0m\u001b[0;34m\u001b[0m\u001b[0;34m\u001b[0m\u001b[0m\n\u001b[1;32m      6\u001b[0m \u001b[0;34m\u001b[0m\u001b[0m\n",
      "\u001b[0;31mOperationalError\u001b[0m: no such table: statcast_data_2023"
     ]
    }
   ],
   "source": [
    "conn = sqlite3.connect('2023Statcast.db')\n",
    "cursor = conn.cursor()\n",
    "\n",
    "cursor.execute(\"SELECT * FROM statcast_data_2023;\")\n",
    "rows = cursor.fetchall()\n",
    "\n",
    "for row in rows:\n",
    "    print(row)\n",
    "\n",
    "conn.close()"
   ]
  },
  {
   "cell_type": "code",
   "execution_count": 77,
   "id": "798c907c",
   "metadata": {},
   "outputs": [],
   "source": [
    "conn = sqlite3.connect('2023Statcast.db')\n",
    "cursor = conn.cursor()\n",
    "\n",
    "cursor.execute(\"DROP TABLE statcast_data_2023;\")\n",
    "conn.commit()\n",
    "\n",
    "conn.close()"
   ]
  },
  {
   "cell_type": "code",
   "execution_count": 82,
   "id": "7d19e3ee",
   "metadata": {
    "collapsed": true
   },
   "outputs": [
    {
     "name": "stdout",
     "output_type": "stream",
     "text": [
      "pitch_type\n",
      "date\n",
      "velo\n",
      "release_side\n",
      "release_height\n",
      "player_name\n",
      "batter\n",
      "pitcher\n",
      "events\n",
      "description\n",
      "spin_dir\n",
      "spin_rate_deprecated\n",
      "break_angle_deprecated\n",
      "break_length_deprecated\n",
      "zone\n",
      "des\n",
      "game_type\n",
      "stand\n",
      "p_throws\n",
      "home_team\n",
      "away_team\n",
      "type\n",
      "hit_location\n",
      "bb_type\n",
      "balls\n",
      "strikes\n",
      "game_year\n",
      "pfx_x\n",
      "pfx_z\n",
      "plate_x\n",
      "plate_z\n",
      "on_3b\n",
      "on_2b\n",
      "on_1b\n",
      "outs_when_up\n",
      "inning\n",
      "inning_topbot\n",
      "hc_x\n",
      "hc_y\n",
      "tfs_deprecated\n",
      "tfs_zulu_deprecated\n",
      "fielder_2\n",
      "umpire\n",
      "sv_id\n",
      "vx0\n",
      "vy0\n",
      "vz0\n",
      "ax\n",
      "ay\n",
      "az\n",
      "sz_top\n",
      "sz_bot\n",
      "hit_distance_sc\n",
      "exit_velo\n",
      "launch_angle\n",
      "effective_speed\n",
      "release_spin_rate\n",
      "release_extension\n",
      "game_pk\n",
      "pitcher.1\n",
      "fielder_2.1\n",
      "fielder_3\n",
      "fielder_4\n",
      "fielder_5\n",
      "fielder_6\n",
      "fielder_7\n",
      "fielder_8\n",
      "fielder_9\n",
      "release_pos_y\n",
      "estimated_ba_using_speedangle\n",
      "estimated_woba_using_speedangle\n",
      "woba_value\n",
      "woba_denom\n",
      "babip_value\n",
      "iso_value\n",
      "launch_speed_angle\n",
      "at_bat_number\n",
      "pitch_number\n",
      "pitch_name\n",
      "home_score\n",
      "away_score\n",
      "bat_score\n",
      "fld_score\n",
      "post_away_score\n",
      "post_home_score\n",
      "post_bat_score\n",
      "post_fld_score\n",
      "if_fielding_alignment\n",
      "of_fielding_alignment\n",
      "spin_axis\n",
      "delta_home_win_exp\n",
      "delta_run_exp\n",
      "hard_hit\n",
      "barrel\n",
      "VAA\n"
     ]
    }
   ],
   "source": [
    "# Connect to the database\n",
    "conn = sqlite3.connect('2023Statcast.db')\n",
    "cursor = conn.cursor()\n",
    "\n",
    "# Execute the query to retrieve the column names\n",
    "cursor.execute(\"PRAGMA table_info(statcast_data_2023);\")\n",
    "\n",
    "# Fetch the results and print the column names\n",
    "results = cursor.fetchall()\n",
    "for row in results:\n",
    "    print(row[1])\n",
    "\n",
    "# Close the database connection\n",
    "conn.close()"
   ]
  },
  {
   "cell_type": "code",
   "execution_count": null,
   "id": "9f9be870",
   "metadata": {},
   "outputs": [],
   "source": []
  },
  {
   "cell_type": "code",
   "execution_count": null,
   "id": "c9c97f03",
   "metadata": {},
   "outputs": [],
   "source": []
  }
 ],
 "metadata": {
  "kernelspec": {
   "display_name": "Python 3 (ipykernel)",
   "language": "python",
   "name": "python3"
  },
  "language_info": {
   "codemirror_mode": {
    "name": "ipython",
    "version": 3
   },
   "file_extension": ".py",
   "mimetype": "text/x-python",
   "name": "python",
   "nbconvert_exporter": "python",
   "pygments_lexer": "ipython3",
   "version": "3.9.7"
  }
 },
 "nbformat": 4,
 "nbformat_minor": 5
}
